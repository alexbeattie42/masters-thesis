{
 "cells": [
  {
   "cell_type": "markdown",
   "source": [
    "# Imports\n"
   ],
   "metadata": {
    "collapsed": false
   }
  },
  {
   "cell_type": "code",
   "execution_count": 1,
   "outputs": [],
   "source": [
    "import sys\n",
    "import logging\n",
    "import pandas as pd\n",
    "import dill as pickle\n",
    "\n",
    "import numpy as np\n",
    "from src.outlier_model import OutlierModel\n",
    "# to save results to data directory\n",
    "module_path = '..'\n",
    "if module_path not in sys.path:\n",
    "    sys.path.insert(1, module_path)\n",
    "# increase displayed columns in jupyter notebook\n",
    "pd.set_option('display.max_columns', 200)\n",
    "pd.set_option('display.max_rows', 300)"
   ],
   "metadata": {
    "collapsed": false,
    "pycharm": {
     "name": "#%%\n"
    }
   }
  },
  {
   "cell_type": "code",
   "execution_count": 2,
   "outputs": [],
   "source": [
    "# temporarily remove deprecation warnings\n",
    "import warnings\n",
    "warnings.filterwarnings(\"ignore\", category=DeprecationWarning)\n",
    "\n",
    "logging.basicConfig(format='%(asctime)s: %(message)s', datefmt='%m/%d/%Y %I:%M:%S %p')\n",
    "logger = logging.getLogger(\"TimeSeries\")\n",
    "logger.setLevel(logging.INFO)"
   ],
   "metadata": {
    "collapsed": false,
    "pycharm": {
     "name": "#%%\n"
    }
   }
  },
  {
   "cell_type": "markdown",
   "source": [
    "# Dataset"
   ],
   "metadata": {
    "collapsed": false
   }
  },
  {
   "cell_type": "code",
   "execution_count": 3,
   "outputs": [],
   "source": [
    "base_path = '#datasets'\n",
    "output_dir = 'hydraulic_output'\n",
    "\n",
    "\n",
    "files = ['Sim_Standard', 'Sim_Signal']\n",
    "outlier_keys = [\"force:1\", \"pA:1\"]\n"
   ],
   "metadata": {
    "collapsed": false,
    "pycharm": {
     "name": "#%%\n"
    }
   }
  },
  {
   "cell_type": "code",
   "execution_count": 4,
   "outputs": [],
   "source": [
    "data_df_final = pd.DataFrame()\n",
    "for file in files:\n",
    "    data_df = pd.read_csv(f'{base_path}/crane-sim/{file}.csv',index_col=False)\n",
    "    data_df['type'] = file\n",
    "    data_df_final = pd.concat([data_df_final, data_df], ignore_index=True)\n",
    "\n",
    "data_df_final.head()\n",
    "\n",
    "data = data_df_final.loc[data_df_final['type'] == files[1]]\n",
    "data = data.reset_index()"
   ],
   "metadata": {
    "collapsed": false,
    "pycharm": {
     "name": "#%%\n"
    }
   }
  },
  {
   "cell_type": "code",
   "execution_count": 5,
   "outputs": [
    {
     "name": "stderr",
     "output_type": "stream",
     "text": [
      "04/21/2022 03:08:31 PM:  Anomaly at Global index: 45\n",
      "04/21/2022 03:08:31 PM: max_mp: 110.3887, metric:76.68690000000001: metric-max_mp: 33.70179999999999 range: 110.2186\n",
      "04/21/2022 03:08:31 PM:  Anomaly at Global index: 112\n",
      "04/21/2022 03:08:31 PM: max_mp: 16938.9959, metric:16769.4947: metric-max_mp: 169.50120000000243 range: 678.6430999999975\n",
      "04/21/2022 03:08:31 PM:  Anomaly at Global index: 172\n",
      "04/21/2022 03:08:31 PM: max_mp: 5365.5743, metric:4697.4591: metric-max_mp: 668.1152000000002 range: 3203.5456000000004\n",
      "04/21/2022 03:08:31 PM:  Anomaly at Global index: 244\n",
      "04/21/2022 03:08:31 PM: max_mp: 5956.6836, metric:5728.6473000000005: metric-max_mp: 228.03629999999976 range: 2003.353\n",
      "04/21/2022 03:08:31 PM:  Anomaly at Global index: 304\n",
      "04/21/2022 03:08:31 PM: max_mp: 10382.3909, metric:9533.137999999999: metric-max_mp: 849.2529000000013 range: 4010.2956000000004\n",
      "04/21/2022 03:08:31 PM:  Anomaly at Global index: 45\n",
      "04/21/2022 03:08:31 PM: max_mp: 39094.3979, metric:27155.7054: metric-max_mp: 11938.692500000005 range: 39034.23330000001\n",
      "04/21/2022 03:08:32 PM:  Anomaly at Global index: 112\n",
      "04/21/2022 03:08:32 PM: max_mp: 6115308.5092, metric:6055968.7618: metric-max_mp: 59339.74739999976 range: 250091.23489999957\n",
      "04/21/2022 03:08:32 PM:  Anomaly at Global index: 172\n",
      "04/21/2022 03:08:32 PM: max_mp: 1940014.4961, metric:1694935.0507: metric-max_mp: 245079.44540000008 range: 1151661.0117\n",
      "04/21/2022 03:08:32 PM:  Anomaly at Global index: 244\n",
      "04/21/2022 03:08:32 PM: max_mp: 2082310.8209, metric:1997741.1504: metric-max_mp: 84569.67050000001 range: 699883.0028000001\n",
      "04/21/2022 03:08:32 PM:  Anomaly at Global index: 304\n",
      "04/21/2022 03:08:32 PM: max_mp: 3661486.3571, metric:3353674.5017: metric-max_mp: 307811.85540000023 range: 1354883.3432\n"
     ]
    }
   ],
   "source": [
    "height = 4\n",
    "width = 6\n",
    "\n",
    "m = 15\n",
    "preload_size = 30\n",
    "std_dev_mult = 2\n",
    "range_mult = 2\n",
    "models = {}\n",
    "for outlier_key in outlier_keys:\n",
    "    data_test = data.copy()\n",
    "\n",
    "    outlier_model = OutlierModel(m=m,std_dev_mult=std_dev_mult,range_mult=range_mult,\n",
    "                                 time_series=data_test[:preload_size][outlier_key].astype(np.float64),\n",
    "                                 egress=True)\n",
    "    fault = False\n",
    "    for index, row in data_test[preload_size:].iterrows():\n",
    "        outlier_model.train_one(row[outlier_key])\n",
    "        fault = outlier_model.predict_one(index)\n",
    "        if index % 10000 == 0:\n",
    "            print(f\"Current Global index: {index}\")\n",
    "    models[outlier_key] = outlier_model"
   ],
   "metadata": {
    "collapsed": false,
    "pycharm": {
     "name": "#%%\n"
    }
   }
  },
  {
   "cell_type": "code",
   "execution_count": 6,
   "outputs": [],
   "source": [
    "with open(\"../masters-thesis-graphing/_data/crane-sim/models.pkl\", 'wb') as handle:\n",
    "    pickle.dump(models, handle, protocol=pickle.HIGHEST_PROTOCOL)\n",
    "\n",
    "with open(\"../masters-thesis-graphing/_data/crane-sim/data.pkl\", 'wb') as handle:\n",
    "    pickle.dump(data, handle, protocol=pickle.HIGHEST_PROTOCOL)"
   ],
   "metadata": {
    "collapsed": false,
    "pycharm": {
     "name": "#%%\n"
    }
   }
  }
 ],
 "metadata": {
  "interpreter": {
   "hash": "d9d18e9f29cc76176cc64cecda10b08503df27bbeb68d46276fb666f16272d10"
  },
  "kernelspec": {
   "name": "python3",
   "language": "python",
   "display_name": "Python 3 (ipykernel)"
  },
  "language_info": {
   "codemirror_mode": {
    "name": "ipython",
    "version": 3
   },
   "file_extension": ".py",
   "mimetype": "text/x-python",
   "name": "python",
   "nbconvert_exporter": "python",
   "pygments_lexer": "ipython3",
   "version": "3.8.12"
  },
  "toc-autonumbering": true
 },
 "nbformat": 4,
 "nbformat_minor": 5
}